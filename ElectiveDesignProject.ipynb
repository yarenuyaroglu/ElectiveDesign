{
  "nbformat": 4,
  "nbformat_minor": 0,
  "metadata": {
    "colab": {
      "provenance": [],
      "gpuType": "T4"
    },
    "kernelspec": {
      "name": "python3",
      "display_name": "Python 3"
    },
    "language_info": {
      "name": "python"
    },
    "accelerator": "GPU"
  },
  "cells": [
    {
      "cell_type": "markdown",
      "source": [
        "**Data Pre-Processing**"
      ],
      "metadata": {
        "id": "7U7MHdO6kW5T"
      }
    },
    {
      "cell_type": "code",
      "execution_count": null,
      "metadata": {
        "id": "JR40FQfOgxYW"
      },
      "outputs": [],
      "source": [
        "import os\n",
        "import cv2\n",
        "import numpy as np\n",
        "from tqdm import tqdm\n",
        "from glob import glob\n",
        "import pandas as pd"
      ]
    },
    {
      "cell_type": "code",
      "source": [
        "from google.colab import drive\n",
        "drive.mount('/content/drive')"
      ],
      "metadata": {
        "colab": {
          "base_uri": "https://localhost:8080/"
        },
        "id": "hD0Ozf_Fg1Tx",
        "outputId": "7ff6e10d-f9b4-4bca-ea83-d44c6ebe29de"
      },
      "execution_count": null,
      "outputs": [
        {
          "output_type": "stream",
          "name": "stdout",
          "text": [
            "Mounted at /content/drive\n"
          ]
        }
      ]
    },
    {
      "cell_type": "code",
      "source": [
        "train_images_path = \"/content/drive/MyDrive/SignLanguage/TurkishSignLanguageYoloV8/train/images\"\n",
        "train_labels_path = \"/content/drive/MyDrive/SignLanguage/TurkishSignLanguageYoloV8/train/labels\""
      ],
      "metadata": {
        "id": "Wd8lUij1g6x5"
      },
      "execution_count": null,
      "outputs": []
    },
    {
      "cell_type": "code",
      "source": [
        "#normalizing the image dimensions:RESIZE And NORMALIZE\n",
        "\n",
        "def resize_and_normalize_images(image_folder, target_size=(640, 640)):\n",
        "    resized_folder = f\"{image_folder}_resized\"\n",
        "    os.makedirs(resized_folder, exist_ok=True)\n",
        "\n",
        "    for img_path in tqdm(glob(os.path.join(image_folder, \"*.jpg\"))):\n",
        "\n",
        "        img = cv2.imread(img_path)\n",
        "\n",
        "        resized_img = cv2.resize(img, target_size)\n",
        "\n",
        "        normalized_img = resized_img / 255.0\n",
        "\n",
        "\n",
        "        new_img_path = os.path.join(resized_folder, os.path.basename(img_path))\n",
        "        cv2.imwrite(new_img_path, (normalized_img * 255).astype(np.uint8))\n",
        "\n",
        "    return resized_folder"
      ],
      "metadata": {
        "id": "1AZ9G1R6hNkD"
      },
      "execution_count": null,
      "outputs": []
    },
    {
      "cell_type": "code",
      "source": [
        "#Data Augmentation\n",
        "from tensorflow.keras.preprocessing.image import ImageDataGenerator\n",
        "\n",
        "def augment_images(image_folder, save_to_folder, augment_count=3):\n",
        "    os.makedirs(save_to_folder, exist_ok=True)\n",
        "    #Data Generator\n",
        "    datagen = ImageDataGenerator(\n",
        "        rotation_range=30,  #Rotation Range\n",
        "        width_shift_range=0.2,  #Width Shift\n",
        "        height_shift_range=0.2,  #Height Shift\n",
        "        shear_range=0.2,  #Shear Range\n",
        "        zoom_range=0.2,  #Zoom Range\n",
        "        horizontal_flip=True,  #Horizontal\n",
        "        fill_mode='nearest'  #Fill Mode\n",
        "    )\n",
        "\n",
        "    for img_path in tqdm(glob(os.path.join(image_folder, \"*.jpg\"))):\n",
        "        img = cv2.imread(img_path)\n",
        "        # make the appropriate shape\n",
        "        img = img.reshape((1,) + img.shape)\n",
        "        i = 0\n",
        "        # Creating a certain number of augmented versions for each image\n",
        "        for batch in datagen.flow(img, batch_size=1, save_to_dir=save_to_folder, save_prefix='aug', save_format='jpg'):\n",
        "            i += 1\n",
        "            if i >= augment_count:\n",
        "                break"
      ],
      "metadata": {
        "id": "Vcg4axdCh1L-"
      },
      "execution_count": null,
      "outputs": []
    },
    {
      "cell_type": "code",
      "source": [
        "#Applying Resize and Normalize Function\n",
        "resized_images_folder = resize_and_normalize_images(train_images_path)"
      ],
      "metadata": {
        "colab": {
          "base_uri": "https://localhost:8080/"
        },
        "id": "Q1CT7kDEi8xm",
        "outputId": "bdc510ff-540e-4706-a3c0-108fc9b6f650"
      },
      "execution_count": null,
      "outputs": [
        {
          "output_type": "stream",
          "name": "stderr",
          "text": [
            "100%|██████████| 20043/20043 [15:12<00:00, 21.97it/s]\n"
          ]
        }
      ]
    },
    {
      "cell_type": "code",
      "source": [
        "#Applying Augmentation Function\n",
        "augment_save_folder = \"/content/drive/MyDrive/SignLanguage/TurkishSignLanguageYoloV8/train/augmented_images\"\n",
        "augment_images(resized_images_folder, augment_save_folder)"
      ],
      "metadata": {
        "colab": {
          "base_uri": "https://localhost:8080/"
        },
        "id": "0_IBRiOgjeJj",
        "outputId": "90ded20e-0da0-4bba-c217-73686795651e"
      },
      "execution_count": null,
      "outputs": [
        {
          "output_type": "stream",
          "name": "stderr",
          "text": [
            "100%|██████████| 20043/20043 [1:47:52<00:00,  3.10it/s]\n"
          ]
        }
      ]
    },
    {
      "cell_type": "code",
      "source": [],
      "metadata": {
        "id": "l0uQQPhUJ0GP"
      },
      "execution_count": null,
      "outputs": []
    }
  ]
}